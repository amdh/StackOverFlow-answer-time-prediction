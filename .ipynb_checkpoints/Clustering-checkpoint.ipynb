{
 "cells": [
  {
   "cell_type": "code",
   "execution_count": 1,
   "metadata": {
    "collapsed": true
   },
   "outputs": [],
   "source": [
    "import pandas as pd\n",
    "import numpy as np\n",
    "import scipy as sp\n",
    "# Open graphs in new cells in the page rather than in a separate window\n",
    "%matplotlib inline \n",
    "import matplotlib.pyplot as plt \n",
    "plt.rcParams[\"figure.figsize\"] = (15, 5)  # set a default figure size\n"
   ]
  },
  {
   "cell_type": "code",
   "execution_count": 2,
   "metadata": {
    "collapsed": true
   },
   "outputs": [],
   "source": [
    "broken_df = pd.read_csv('answers.csv')"
   ]
  },
  {
   "cell_type": "code",
   "execution_count": 4,
   "metadata": {
    "collapsed": false,
    "scrolled": true
   },
   "outputs": [
    {
     "data": {
      "text/html": [
       "<div>\n",
       "<table border=\"1\" class=\"dataframe\">\n",
       "  <thead>\n",
       "    <tr style=\"text-align: right;\">\n",
       "      <th></th>\n",
       "      <th>Unnamed: 0</th>\n",
       "      <th>qid</th>\n",
       "      <th>i</th>\n",
       "      <th>qs</th>\n",
       "      <th>qt</th>\n",
       "      <th>tags</th>\n",
       "      <th>qvc</th>\n",
       "      <th>qac</th>\n",
       "      <th>aid</th>\n",
       "      <th>j</th>\n",
       "      <th>as</th>\n",
       "      <th>at</th>\n",
       "    </tr>\n",
       "  </thead>\n",
       "  <tbody>\n",
       "    <tr>\n",
       "      <th>0</th>\n",
       "      <td>1</td>\n",
       "      <td>563355</td>\n",
       "      <td>62701.0</td>\n",
       "      <td>0</td>\n",
       "      <td>1235000081</td>\n",
       "      <td>php,error,gd,image-processing</td>\n",
       "      <td>220</td>\n",
       "      <td>2</td>\n",
       "      <td>563372</td>\n",
       "      <td>67183.0</td>\n",
       "      <td>2</td>\n",
       "      <td>1235000501</td>\n",
       "    </tr>\n",
       "    <tr>\n",
       "      <th>1</th>\n",
       "      <td>2</td>\n",
       "      <td>563355</td>\n",
       "      <td>62701.0</td>\n",
       "      <td>0</td>\n",
       "      <td>1235000081</td>\n",
       "      <td>php,error,gd,image-processing</td>\n",
       "      <td>220</td>\n",
       "      <td>2</td>\n",
       "      <td>563374</td>\n",
       "      <td>66554.0</td>\n",
       "      <td>0</td>\n",
       "      <td>1235000551</td>\n",
       "    </tr>\n",
       "    <tr>\n",
       "      <th>2</th>\n",
       "      <td>3</td>\n",
       "      <td>563356</td>\n",
       "      <td>15842.0</td>\n",
       "      <td>10</td>\n",
       "      <td>1235000140</td>\n",
       "      <td>lisp,scheme,subjective,clojure</td>\n",
       "      <td>1047</td>\n",
       "      <td>16</td>\n",
       "      <td>563358</td>\n",
       "      <td>15842.0</td>\n",
       "      <td>3</td>\n",
       "      <td>1235000177</td>\n",
       "    </tr>\n",
       "  </tbody>\n",
       "</table>\n",
       "</div>"
      ],
      "text/plain": [
       "   Unnamed: 0     qid        i  qs          qt  \\\n",
       "0           1  563355  62701.0   0  1235000081   \n",
       "1           2  563355  62701.0   0  1235000081   \n",
       "2           3  563356  15842.0  10  1235000140   \n",
       "\n",
       "                             tags   qvc  qac     aid        j  as          at  \n",
       "0   php,error,gd,image-processing   220    2  563372  67183.0   2  1235000501  \n",
       "1   php,error,gd,image-processing   220    2  563374  66554.0   0  1235000551  \n",
       "2  lisp,scheme,subjective,clojure  1047   16  563358  15842.0   3  1235000177  "
      ]
     },
     "execution_count": 4,
     "metadata": {},
     "output_type": "execute_result"
    }
   ],
   "source": [
    "# Look at the first 3 rows\n",
    "broken_df[:3]"
   ]
  },
  {
   "cell_type": "markdown",
   "metadata": {},
   "source": [
    "Columns values,\n",
    "qid: Unique question id\n",
    "\n",
    "i: User id of questioner\n",
    "\n",
    "qs: Score of the question\n",
    "\n",
    "qt: Time of the question (in epoch time)\n",
    "\n",
    "tags: a comma-separated list of the tags associated with the question. Examples of tags are ``html'', ``R'', ``mysql'', ``python'', and so on; often between two and six tags are used on each question.\n",
    "\n",
    "qvc: Number of views of this question (at the time of the datadump)\n",
    "\n",
    "qac: Number of answers for this question (at the time of the datadump)\n",
    "\n",
    "aid: Unique answer id\n",
    "\n",
    "j: User id of answerer\n",
    "\n",
    "as: Score of the answer\n",
    "\n",
    "at: Time of the answer"
   ]
  },
  {
   "cell_type": "code",
   "execution_count": null,
   "metadata": {
    "collapsed": true
   },
   "outputs": [],
   "source": []
  },
  {
   "cell_type": "code",
   "execution_count": null,
   "metadata": {
    "collapsed": true
   },
   "outputs": [],
   "source": []
  },
  {
   "cell_type": "code",
   "execution_count": null,
   "metadata": {
    "collapsed": true
   },
   "outputs": [],
   "source": []
  },
  {
   "cell_type": "code",
   "execution_count": null,
   "metadata": {
    "collapsed": true
   },
   "outputs": [],
   "source": []
  }
 ],
 "metadata": {
  "kernelspec": {
   "display_name": "Python 3",
   "language": "python",
   "name": "python3"
  },
  "language_info": {
   "codemirror_mode": {
    "name": "ipython",
    "version": 3
   },
   "file_extension": ".py",
   "mimetype": "text/x-python",
   "name": "python",
   "nbconvert_exporter": "python",
   "pygments_lexer": "ipython3",
   "version": "3.5.2"
  }
 },
 "nbformat": 4,
 "nbformat_minor": 2
}
