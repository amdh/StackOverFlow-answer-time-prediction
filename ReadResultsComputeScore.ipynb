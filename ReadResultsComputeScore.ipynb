{
 "cells": [
  {
   "cell_type": "code",
   "execution_count": 62,
   "metadata": {
    "collapsed": true
   },
   "outputs": [],
   "source": [
    "from sklearn.metrics import f1_score\n",
    "from sklearn.metrics import recall_score\n",
    "from sklearn.metrics import precision_score\n",
    "import math "
   ]
  },
  {
   "cell_type": "code",
   "execution_count": 51,
   "metadata": {
    "collapsed": true
   },
   "outputs": [],
   "source": [
    "\n",
    "# open docs file and read its lines\n",
    "with open(\"results.dat\", \"r\") as fh:\n",
    "    lines = fh.readlines()  "
   ]
  },
  {
   "cell_type": "code",
   "execution_count": 52,
   "metadata": {
    "collapsed": false
   },
   "outputs": [
    {
     "name": "stdout",
     "output_type": "stream",
     "text": [
      "150\n"
     ]
    }
   ],
   "source": [
    "print len(lines)"
   ]
  },
  {
   "cell_type": "code",
   "execution_count": 53,
   "metadata": {
    "collapsed": true
   },
   "outputs": [],
   "source": [
    "def getListOfPredictionsAndActualResults(lines):\n",
    "    actualResults = []\n",
    "    predictions = []\n",
    "    \n",
    "    for line in lines:\n",
    "        #print line\n",
    "        \n",
    "        result = line.strip('\\n').split(\" : \")\n",
    "        \n",
    "        actualResults.append(result[0])\n",
    "        predictions.append(result[1])\n",
    "        \n",
    "        #print str(actualResults) + \"   ----  \"+ str(predictions)\n",
    "        \n",
    "    return actualResults,predictions "
   ]
  },
  {
   "cell_type": "code",
   "execution_count": 54,
   "metadata": {
    "collapsed": false
   },
   "outputs": [],
   "source": [
    "actualResults, predictions =   getListOfPredictionsAndActualResults(lines)"
   ]
  },
  {
   "cell_type": "code",
   "execution_count": 55,
   "metadata": {
    "collapsed": false
   },
   "outputs": [
    {
     "name": "stdout",
     "output_type": "stream",
     "text": [
      "150\n",
      "150\n"
     ]
    }
   ],
   "source": [
    "print str(len(actualResults))\n",
    "print str(len(predictions))"
   ]
  },
  {
   "cell_type": "code",
   "execution_count": 56,
   "metadata": {
    "collapsed": true
   },
   "outputs": [],
   "source": [
    "def getScores(actualResults,predictions):\n",
    "    print f1_score(actualResults, predictions, average='macro')  \n",
    "    print f1_score(actualResults, predictions, average='micro')  \n",
    "    print f1_score(actualResults, predictions, average='weighted')  \n",
    "    \n",
    "    print recall_score(actualResults, predictions, average='macro')\n",
    "    print recall_score(actualResults, predictions, average='micro')\n",
    "    print recall_score(actualResults, predictions, average='weighted')\n",
    "    \n",
    "    print precision_score(actualResults, predictions, average='macro')  \n",
    "    print precision_score(actualResults, predictions, average='micro')  \n",
    "    print precision_score(actualResults, predictions, average='weighted')  \n",
    "    "
   ]
  },
  {
   "cell_type": "code",
   "execution_count": 68,
   "metadata": {
    "collapsed": false
   },
   "outputs": [],
   "source": [
    "def getTestData(actualResults,predictions):\n",
    "    actualTestList = []\n",
    "    predictionTestList = []\n",
    "    \n",
    "    for x in range(len(actualResults)):\n",
    "        diff=math.fabs(float(predictions[x])-float(actualResults[x]))\n",
    "        if (diff/float(actualResults[x]))<0.20:\n",
    "            predictionTestList.append(1)\n",
    "        else:\n",
    "            predictionTestList.append(0)\n",
    "        actualTestList.append(1)\n",
    "        \n",
    "        return actualTestList, predictionTestList\n",
    "    "
   ]
  },
  {
   "cell_type": "code",
   "execution_count": 69,
   "metadata": {
    "collapsed": false,
    "scrolled": true
   },
   "outputs": [
    {
     "name": "stdout",
     "output_type": "stream",
     "text": [
      "[1]\n",
      "[0]\n"
     ]
    },
    {
     "ename": "TypeError",
     "evalue": "'NoneType' object is not iterable",
     "output_type": "error",
     "traceback": [
      "\u001b[0;31m---------------------------------------------------------------------------\u001b[0m",
      "\u001b[0;31mTypeError\u001b[0m                                 Traceback (most recent call last)",
      "\u001b[0;32m<ipython-input-69-9b7a53045256>\u001b[0m in \u001b[0;36m<module>\u001b[0;34m()\u001b[0m\n\u001b[0;32m----> 1\u001b[0;31m \u001b[0mactualtestList\u001b[0m\u001b[1;33m,\u001b[0m \u001b[0mpredictionTestList\u001b[0m \u001b[1;33m=\u001b[0m \u001b[0mgetTestData\u001b[0m\u001b[1;33m(\u001b[0m\u001b[0mactualResults\u001b[0m\u001b[1;33m,\u001b[0m\u001b[0mpredictions\u001b[0m\u001b[1;33m)\u001b[0m\u001b[1;33m\u001b[0m\u001b[0m\n\u001b[0m\u001b[1;32m      2\u001b[0m \u001b[0mgetScores\u001b[0m\u001b[1;33m(\u001b[0m\u001b[0mactualtestList\u001b[0m\u001b[1;33m,\u001b[0m\u001b[0mpredictionTestList\u001b[0m\u001b[1;33m)\u001b[0m\u001b[1;33m\u001b[0m\u001b[0m\n",
      "\u001b[0;31mTypeError\u001b[0m: 'NoneType' object is not iterable"
     ]
    }
   ],
   "source": [
    "actualtestList, predictionTestList = getTestData(actualResults,predictions)\n",
    "getScores(actualtestList,predictionTestList)"
   ]
  },
  {
   "cell_type": "code",
   "execution_count": null,
   "metadata": {
    "collapsed": true
   },
   "outputs": [],
   "source": []
  },
  {
   "cell_type": "code",
   "execution_count": null,
   "metadata": {
    "collapsed": true
   },
   "outputs": [],
   "source": [
    "\n"
   ]
  },
  {
   "cell_type": "code",
   "execution_count": null,
   "metadata": {
    "collapsed": true
   },
   "outputs": [],
   "source": []
  }
 ],
 "metadata": {
  "kernelspec": {
   "display_name": "Python 2",
   "language": "python",
   "name": "python2"
  },
  "language_info": {
   "codemirror_mode": {
    "name": "ipython",
    "version": 2
   },
   "file_extension": ".py",
   "mimetype": "text/x-python",
   "name": "python",
   "nbconvert_exporter": "python",
   "pygments_lexer": "ipython2",
   "version": "2.7.13"
  }
 },
 "nbformat": 4,
 "nbformat_minor": 2
}
