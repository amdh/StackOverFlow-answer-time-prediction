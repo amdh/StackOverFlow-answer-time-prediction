{
 "cells": [
  {
   "cell_type": "code",
   "execution_count": 58,
   "metadata": {
    "collapsed": true
   },
   "outputs": [],
   "source": [
    "import pandas as pd\n",
    "import numpy as np\n",
    "import scipy as sp\n",
    "# Open graphs in new cells in the page rather than in a separate window\n",
    "%matplotlib inline \n",
    "import matplotlib.pyplot as plt \n",
    "plt.rcParams[\"figure.figsize\"] = (15, 5)  # set a default figure size\n",
    "from sklearn.cluster import KMeans\n",
    "from sklearn.metrics import pairwise_distances_argmin_min\n",
    "\n",
    "import time\n",
    "import datetime"
   ]
  },
  {
   "cell_type": "code",
   "execution_count": 6,
   "metadata": {},
   "outputs": [],
   "source": [
    "inputFile = pd.read_csv('answers.csv')\n",
    "\n",
    "#df = inputFile[:-100]\n",
    "df = inputFile[:20000]\n",
    "\n",
    "testdf = inputFile[-100:]"
   ]
  },
  {
   "cell_type": "code",
   "execution_count": 7,
   "metadata": {},
   "outputs": [
    {
     "name": "stdout",
     "output_type": "stream",
     "text": [
      "20000\n"
     ]
    }
   ],
   "source": [
    "print(len(df))"
   ]
  },
  {
   "cell_type": "code",
   "execution_count": 10,
   "metadata": {
    "scrolled": false
   },
   "outputs": [
    {
     "data": {
      "text/html": [
       "<div>\n",
       "<table border=\"1\" class=\"dataframe\">\n",
       "  <thead>\n",
       "    <tr style=\"text-align: right;\">\n",
       "      <th></th>\n",
       "      <th>Unnamed: 0</th>\n",
       "      <th>qid</th>\n",
       "      <th>i</th>\n",
       "      <th>qs</th>\n",
       "      <th>qt</th>\n",
       "      <th>tags</th>\n",
       "      <th>qvc</th>\n",
       "      <th>qac</th>\n",
       "      <th>aid</th>\n",
       "      <th>j</th>\n",
       "      <th>as</th>\n",
       "      <th>at</th>\n",
       "    </tr>\n",
       "  </thead>\n",
       "  <tbody>\n",
       "    <tr>\n",
       "      <th>0</th>\n",
       "      <td>1</td>\n",
       "      <td>563355</td>\n",
       "      <td>62701.0</td>\n",
       "      <td>0</td>\n",
       "      <td>1235000081</td>\n",
       "      <td>php,error,gd,image-processing</td>\n",
       "      <td>220</td>\n",
       "      <td>2</td>\n",
       "      <td>563372</td>\n",
       "      <td>67183.0</td>\n",
       "      <td>2</td>\n",
       "      <td>1235000501</td>\n",
       "    </tr>\n",
       "    <tr>\n",
       "      <th>1</th>\n",
       "      <td>2</td>\n",
       "      <td>563355</td>\n",
       "      <td>62701.0</td>\n",
       "      <td>0</td>\n",
       "      <td>1235000081</td>\n",
       "      <td>php,error,gd,image-processing</td>\n",
       "      <td>220</td>\n",
       "      <td>2</td>\n",
       "      <td>563374</td>\n",
       "      <td>66554.0</td>\n",
       "      <td>0</td>\n",
       "      <td>1235000551</td>\n",
       "    </tr>\n",
       "    <tr>\n",
       "      <th>2</th>\n",
       "      <td>3</td>\n",
       "      <td>563356</td>\n",
       "      <td>15842.0</td>\n",
       "      <td>10</td>\n",
       "      <td>1235000140</td>\n",
       "      <td>lisp,scheme,subjective,clojure</td>\n",
       "      <td>1047</td>\n",
       "      <td>16</td>\n",
       "      <td>563358</td>\n",
       "      <td>15842.0</td>\n",
       "      <td>3</td>\n",
       "      <td>1235000177</td>\n",
       "    </tr>\n",
       "  </tbody>\n",
       "</table>\n",
       "</div>"
      ],
      "text/plain": [
       "   Unnamed: 0     qid        i  qs          qt  \\\n",
       "0           1  563355  62701.0   0  1235000081   \n",
       "1           2  563355  62701.0   0  1235000081   \n",
       "2           3  563356  15842.0  10  1235000140   \n",
       "\n",
       "                             tags   qvc  qac     aid        j  as          at  \n",
       "0   php,error,gd,image-processing   220    2  563372  67183.0   2  1235000501  \n",
       "1   php,error,gd,image-processing   220    2  563374  66554.0   0  1235000551  \n",
       "2  lisp,scheme,subjective,clojure  1047   16  563358  15842.0   3  1235000177  "
      ]
     },
     "execution_count": 10,
     "metadata": {},
     "output_type": "execute_result"
    }
   ],
   "source": [
    "# Look at the first 3 rows\n",
    "df[:3]"
   ]
  },
  {
   "cell_type": "markdown",
   "metadata": {},
   "source": [
    "Columns values,\n",
    "qid: Unique question id\n",
    "\n",
    "i: User id of questioner\n",
    "\n",
    "qs: Score of the question\n",
    "\n",
    "qt: Time of the question (in epoch time)\n",
    "\n",
    "tags: a comma-separated list of the tags associated with the question. Examples of tags are ``html'', ``R'', ``mysql'', ``python'', and so on; often between two and six tags are used on each question.\n",
    "\n",
    "qvc: Number of views of this question (at the time of the datadump)\n",
    "\n",
    "qac: Number of answers for this question (at the time of the datadump)\n",
    "\n",
    "aid: Unique answer id\n",
    "\n",
    "j: User id of answerer\n",
    "\n",
    "as: Score of the answer\n",
    "\n",
    "at: Time of the answer"
   ]
  },
  {
   "cell_type": "code",
   "execution_count": 11,
   "metadata": {
    "scrolled": true
   },
   "outputs": [
    {
     "data": {
      "text/plain": [
       "0     php,error,gd,image-processing\n",
       "1     php,error,gd,image-processing\n",
       "2    lisp,scheme,subjective,clojure\n",
       "3    lisp,scheme,subjective,clojure\n",
       "4    lisp,scheme,subjective,clojure\n",
       "5    lisp,scheme,subjective,clojure\n",
       "6    lisp,scheme,subjective,clojure\n",
       "7    lisp,scheme,subjective,clojure\n",
       "8    lisp,scheme,subjective,clojure\n",
       "9    lisp,scheme,subjective,clojure\n",
       "Name: tags, dtype: object"
      ]
     },
     "execution_count": 11,
     "metadata": {},
     "output_type": "execute_result"
    }
   ],
   "source": [
    "df['tags'][:10]"
   ]
  },
  {
   "cell_type": "code",
   "execution_count": 12,
   "metadata": {
    "collapsed": true
   },
   "outputs": [],
   "source": [
    "features =  set()\n",
    "\n",
    "def feature_selection(data):\n",
    "    for rows in data:\n",
    "        for feat in  rows.split(','):\n",
    "            features.add(feat)\n",
    "            \n",
    "            \n",
    "                        "
   ]
  },
  {
   "cell_type": "code",
   "execution_count": 13,
   "metadata": {},
   "outputs": [
    {
     "name": "stdout",
     "output_type": "stream",
     "text": [
      "3721\n"
     ]
    }
   ],
   "source": [
    "feature_selection(df['tags']) # Get list of all the unique tags in features\n",
    "print(len(features))"
   ]
  },
  {
   "cell_type": "code",
   "execution_count": 14,
   "metadata": {
    "collapsed": true
   },
   "outputs": [],
   "source": [
    "from sklearn.feature_extraction.text import TfidfVectorizer\n",
    "tf = TfidfVectorizer(norm='l2', vocabulary=list(features))"
   ]
  },
  {
   "cell_type": "code",
   "execution_count": 15,
   "metadata": {
    "collapsed": true
   },
   "outputs": [],
   "source": [
    "training_matrix =  tf.fit_transform(df['tags'])\n",
    "training_feature_names = tf.get_feature_names() "
   ]
  },
  {
   "cell_type": "code",
   "execution_count": 16,
   "metadata": {
    "collapsed": true
   },
   "outputs": [],
   "source": [
    "test_matrix =  tf.fit_transform(testdf['tags'])\n"
   ]
  },
  {
   "cell_type": "code",
   "execution_count": 17,
   "metadata": {},
   "outputs": [],
   "source": [
    "#print(training_feature_names)"
   ]
  },
  {
   "cell_type": "code",
   "execution_count": 18,
   "metadata": {
    "scrolled": false
   },
   "outputs": [
    {
     "data": {
      "text/plain": [
       "<2x3721 sparse matrix of type '<class 'numpy.float64'>'\n",
       "\twith 10 stored elements in Compressed Sparse Row format>"
      ]
     },
     "execution_count": 18,
     "metadata": {},
     "output_type": "execute_result"
    }
   ],
   "source": [
    "training_matrix[:2]"
   ]
  },
  {
   "cell_type": "code",
   "execution_count": 19,
   "metadata": {},
   "outputs": [],
   "source": [
    "X=training_matrix\n",
    "y = test_matrix"
   ]
  },
  {
   "cell_type": "code",
   "execution_count": 20,
   "metadata": {},
   "outputs": [],
   "source": [
    "kmeans = KMeans(n_clusters=20, random_state=0).fit(X)"
   ]
  },
  {
   "cell_type": "code",
   "execution_count": 21,
   "metadata": {},
   "outputs": [
    {
     "name": "stdout",
     "output_type": "stream",
     "text": [
      "[ 2  3  3  3  3  3  3  3  3  2  3  3  3  3 10 10 10 10  3  3  3 12 12 12 12\n",
      " 19 19  5  1  3  2 19 10 10 11 11 11 11 11 11  3  7  7  3  3  3  3  3  1 12\n",
      " 12 12 12 18 18 18  3  3  3  1 12 12 12 12 11 11 11 11 11 11 11  3  3  3  3\n",
      "  3  3  3  3  3 19 19 11 11 11 11  3  3  3  3  3  3  3  3  3 14 14 16 16 18]\n"
     ]
    }
   ],
   "source": [
    "predication = []\n",
    "\n",
    "predication = kmeans.predict(y)\n",
    "\n",
    "len(predication)\n",
    "print(predication)"
   ]
  },
  {
   "cell_type": "code",
   "execution_count": 33,
   "metadata": {},
   "outputs": [
    {
     "name": "stdout",
     "output_type": "stream",
     "text": [
      "[ 0.  0.  0. ...,  0.  0.  0.]\n"
     ]
    }
   ],
   "source": [
    "print(kmeans.cluster_centers_[19])"
   ]
  },
  {
   "cell_type": "code",
   "execution_count": 34,
   "metadata": {},
   "outputs": [],
   "source": [
    "closest, _ = pairwise_distances_argmin_min(kmeans.cluster_centers_, X)\n"
   ]
  },
  {
   "cell_type": "code",
   "execution_count": 35,
   "metadata": {
    "scrolled": true
   },
   "outputs": [
    {
     "name": "stdout",
     "output_type": "stream",
     "text": [
      "[ 905  905  905  905 8411 5992  905  905 5011 3376  147  905  905  905  905\n",
      "  905  905  418  376  905]\n"
     ]
    }
   ],
   "source": [
    "##Closest node from the centroids\n",
    "print(closest)  "
   ]
  },
  {
   "cell_type": "code",
   "execution_count": 51,
   "metadata": {},
   "outputs": [
    {
     "ename": "AttributeError",
     "evalue": "'list' object has no attribute 'add'",
     "output_type": "error",
     "traceback": [
      "\u001b[0;31m---------------------------------------------------------------------------\u001b[0m",
      "\u001b[0;31mAttributeError\u001b[0m                            Traceback (most recent call last)",
      "\u001b[0;32m<ipython-input-51-261745ba341e>\u001b[0m in \u001b[0;36m<module>\u001b[0;34m()\u001b[0m\n\u001b[1;32m      6\u001b[0m     \u001b[0;31m#print (df.at[closenode, 'at'])\u001b[0m\u001b[0;34m\u001b[0m\u001b[0;34m\u001b[0m\u001b[0m\n\u001b[1;32m      7\u001b[0m     \u001b[0manswerTime\u001b[0m \u001b[0;34m=\u001b[0m \u001b[0;34m(\u001b[0m\u001b[0mdf\u001b[0m\u001b[0;34m.\u001b[0m\u001b[0mat\u001b[0m\u001b[0;34m[\u001b[0m\u001b[0mclosenode\u001b[0m\u001b[0;34m,\u001b[0m \u001b[0;34m'at'\u001b[0m\u001b[0;34m]\u001b[0m\u001b[0;34m)\u001b[0m \u001b[0;34m-\u001b[0m \u001b[0;34m(\u001b[0m\u001b[0mdf\u001b[0m\u001b[0;34m.\u001b[0m\u001b[0mat\u001b[0m\u001b[0;34m[\u001b[0m\u001b[0mclosenode\u001b[0m\u001b[0;34m,\u001b[0m \u001b[0;34m'qt'\u001b[0m\u001b[0;34m]\u001b[0m\u001b[0;34m)\u001b[0m\u001b[0;34m\u001b[0m\u001b[0m\n\u001b[0;32m----> 8\u001b[0;31m     \u001b[0mEstimatedTimes\u001b[0m\u001b[0;34m.\u001b[0m\u001b[0madd\u001b[0m\u001b[0;34m(\u001b[0m\u001b[0manswerTime\u001b[0m\u001b[0;34m)\u001b[0m\u001b[0;34m\u001b[0m\u001b[0m\n\u001b[0m",
      "\u001b[0;31mAttributeError\u001b[0m: 'list' object has no attribute 'add'"
     ]
    }
   ],
   "source": [
    "EstimatedTimes = []\n",
    "#print(type(df))\n",
    "\n",
    "for closenode in closest:\n",
    "    #print (df.at[closenode, 'qt'])\n",
    "    #print (df.at[closenode, 'at'])\n",
    "    answerTime = (df.at[closenode, 'at']) - (df.at[closenode, 'qt'])\n",
    "    EstimatedTimes.insert(answerTime)    "
   ]
  },
  {
   "cell_type": "code",
   "execution_count": null,
   "metadata": {
    "collapsed": true
   },
   "outputs": [],
   "source": [
    "print(EstimatedTimes)"
   ]
  },
  {
   "cell_type": "code",
   "execution_count": null,
   "metadata": {
    "collapsed": true
   },
   "outputs": [],
   "source": []
  },
  {
   "cell_type": "code",
   "execution_count": 53,
   "metadata": {},
   "outputs": [
    {
     "name": "stdout",
     "output_type": "stream",
     "text": [
      "[ 2  3  3  3  3  3  3  3  3  2  3  3  3  3 10 10 10 10  3  3  3 12 12 12 12\n",
      " 19 19  5  1  3  2 19 10 10 11 11 11 11 11 11  3  7  7  3  3  3  3  3  1 12\n",
      " 12 12 12 18 18 18  3  3  3  1 12 12 12 12 11 11 11 11 11 11 11  3  3  3  3\n",
      "  3  3  3  3  3 19 19 11 11 11 11  3  3  3  3  3  3  3  3  3 14 14 16 16 18]\n"
     ]
    }
   ],
   "source": [
    "predications= []\n",
    "predications= predication[:100]\n",
    "\n",
    "print(predications)"
   ]
  },
  {
   "cell_type": "code",
   "execution_count": 75,
   "metadata": {},
   "outputs": [],
   "source": [
    "PredicationTime = []\n",
    "for predication in predications:\n",
    "    closestNode = (closest[predication])\n",
    "    answerTime = (df.at[closestNode, 'at']) - (df.at[closestNode, 'qt'])\n",
    "    #print(answerTime)\n",
    "    #print(datetime.datetime.fromtimestamp(answerTime).strftime('%c'))\n",
    "    PredicationTime.append(time.strftime('%M:%S', time.localtime(answerTime)))  #Fix this part"
   ]
  },
  {
   "cell_type": "code",
   "execution_count": 76,
   "metadata": {},
   "outputs": [
    {
     "name": "stdout",
     "output_type": "stream",
     "text": [
      "['05:16', '05:16', '05:16', '05:16', '05:16', '05:16', '05:16', '05:16', '05:16', '05:16', '05:16', '05:16', '05:16', '05:16', '04:33', '04:33', '04:33', '04:33', '05:16', '05:16', '05:16', '05:16', '05:16', '05:16', '05:16', '05:16', '05:16', '09:11', '05:16', '05:16', '05:16', '05:16', '04:33', '04:33', '05:16', '05:16', '05:16', '05:16', '05:16', '05:16', '05:16', '05:16', '05:16', '05:16', '05:16', '05:16', '05:16', '05:16', '05:16', '05:16', '05:16', '05:16', '05:16', '05:55', '05:55', '05:55', '05:16', '05:16', '05:16', '05:16', '05:16', '05:16', '05:16', '05:16', '05:16', '05:16', '05:16', '05:16', '05:16', '05:16', '05:16', '05:16', '05:16', '05:16', '05:16', '05:16', '05:16', '05:16', '05:16', '05:16', '05:16', '05:16', '05:16', '05:16', '05:16', '05:16', '05:16', '05:16', '05:16', '05:16', '05:16', '05:16', '05:16', '05:16', '05:16', '05:16', '05:16', '05:16', '05:16', '05:55']\n"
     ]
    }
   ],
   "source": [
    "print(PredicationTime)"
   ]
  },
  {
   "cell_type": "code",
   "execution_count": 77,
   "metadata": {},
   "outputs": [
    {
     "name": "stdout",
     "output_type": "stream",
     "text": [
      "count :  100\n",
      "--The End--\n"
     ]
    }
   ],
   "source": [
    "f = open('Results/result.dat', 'w')\n",
    "\n",
    "count = 0\n",
    "for predictionValue in PredicationTime:\n",
    "    #print(predictionValue)\n",
    "    f.write(str(predictionValue)+'\\n')\n",
    "    count+=1\n",
    "print(\"count : \",count)\n",
    "print(\"--The End--\")"
   ]
  },
  {
   "cell_type": "code",
   "execution_count": null,
   "metadata": {
    "collapsed": true
   },
   "outputs": [],
   "source": []
  }
 ],
 "metadata": {
  "kernelspec": {
   "display_name": "Python 2",
   "language": "python",
   "name": "python2"
  },
  "language_info": {
   "codemirror_mode": {
    "name": "ipython",
    "version": 2
   },
   "file_extension": ".py",
   "mimetype": "text/x-python",
   "name": "python",
   "nbconvert_exporter": "python",
   "pygments_lexer": "ipython2",
   "version": "2.7.12"
  }
 },
 "nbformat": 4,
 "nbformat_minor": 2
}
