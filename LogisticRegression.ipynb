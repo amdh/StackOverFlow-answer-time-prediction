{
 "cells": [
  {
   "cell_type": "code",
   "execution_count": 1,
   "metadata": {
    "collapsed": true
   },
   "outputs": [],
   "source": [
    "import pandas as pd\n",
    "import numpy as np\n",
    "import scipy as sp\n",
    "from sklearn import linear_model\n",
    "# Open graphs in new cells in the page rather than in a separate window\n",
    "# set a default figure size\n",
    "from sklearn.cluster import KMeans\n",
    "from sklearn.metrics import pairwise_distances_argmin_min\n",
    "from sklearn.linear_model import LogisticRegression\n",
    "from sklearn.feature_selection import SelectKBest\n",
    "from sklearn.feature_selection import chi2\n",
    "import time\n",
    "import datetime"
   ]
  },
  {
   "cell_type": "code",
   "execution_count": 2,
   "metadata": {
    "collapsed": false
   },
   "outputs": [
    {
     "name": "stderr",
     "output_type": "stream",
     "text": [
      "/Users/Student/anaconda/lib/python2.7/site-packages/ipykernel/__main__.py:5: FutureWarning: sort(columns=....) is deprecated, use sort_values(by=.....)\n"
     ]
    }
   ],
   "source": [
    "inputFile = pd.read_csv('answers.csv')\n",
    "\n",
    "#df = inputFile[:-100]\n",
    "alldf= inputFile[:-1]\n",
    "alldf=alldf.sort('as', ascending=0)\n",
    "traindf = inputFile[0:260000]\n",
    "#print len(traindf)\n",
    "testdf = inputFile[260001:260200]\n",
    "#print len(testdf)"
   ]
  },
  {
   "cell_type": "code",
   "execution_count": 3,
   "metadata": {
    "collapsed": true
   },
   "outputs": [],
   "source": [
    "def getData(data):\n",
    "\ttags=[]\n",
    "\ttimes=[]\n",
    "\tqids=[]\n",
    "\tdata=data.drop_duplicates(subset='qid',keep='first')\n",
    "\tfor index ,row in data.iterrows():\n",
    "\t\tqids.append(row['qid'])\n",
    "\t\ttags.append(getTags(row['tags']))\n",
    "\t\ttimes.append(int(row['at'])-int(row['qt']))\n",
    "\treturn tags,times,qids\n"
   ]
  },
  {
   "cell_type": "code",
   "execution_count": 4,
   "metadata": {
    "collapsed": true
   },
   "outputs": [],
   "source": [
    "def getTags(tags):\n",
    "\ttagList=tags.split(',')\n",
    "\tresult=\"\"\n",
    "\tfor x in tagList:\n",
    "\t\tresult+=str(x)+' '\n",
    "\treturn result"
   ]
  },
  {
   "cell_type": "code",
   "execution_count": 5,
   "metadata": {
    "collapsed": true
   },
   "outputs": [],
   "source": [
    "def writePredictions(predictions,actualTimes):\n",
    "\tfile = open('results.dat', 'a')\n",
    "\tfor x in range(len(predictions)):\n",
    "\t\tprint predictions[x]\n",
    "\t\tprint actualTimes[x]\n",
    "\t\tfile.write(str(predictions[x])+\" : \"+str(actualTimes[x]))\n",
    "\t\tfile.write(\"\\n\")"
   ]
  },
  {
   "cell_type": "code",
   "execution_count": 6,
   "metadata": {
    "collapsed": true
   },
   "outputs": [],
   "source": [
    "testTags,testTimes,testQids=getData(testdf)\n",
    "featureTags,answerTimes,qids=getData(traindf)"
   ]
  },
  {
   "cell_type": "code",
   "execution_count": 7,
   "metadata": {
    "collapsed": true
   },
   "outputs": [],
   "source": [
    "alltags=set()\n",
    "for index,row in alldf.iterrows():\n",
    "\tfor feat in  row['tags'].split(','):\n",
    "\t\talltags.add(feat)"
   ]
  },
  {
   "cell_type": "code",
   "execution_count": null,
   "metadata": {
    "collapsed": false
   },
   "outputs": [],
   "source": [
    "from sklearn.feature_extraction.text import TfidfVectorizer\n",
    "tf = TfidfVectorizer(norm='l2', vocabulary=list(alltags))\n",
    "trainingMatrix=tf.fit_transform(featureTags)\n",
    "testMatrix=tf.fit_transform(testTags)\n",
    "#print testMatrix[:-1]\n",
    "regr = linear_model.LogisticRegression()\n",
    "regr.fit(trainingMatrix,answerTimes)\n",
    "predictions=regr.predict(testMatrix)"
   ]
  },
  {
   "cell_type": "code",
   "execution_count": 18,
   "metadata": {
    "collapsed": false
   },
   "outputs": [
    {
     "name": "stdout",
     "output_type": "stream",
     "text": [
      "3853.3012862\n",
      "145\n",
      "40564.8607793\n",
      "619\n",
      "9823.06525822\n",
      "494\n",
      "38882.816669\n",
      "1979\n",
      "-36153.1202508\n",
      "5659\n",
      "-6265.02765466\n",
      "138\n",
      "371962.662934\n",
      "16401\n",
      "21544.9020021\n",
      "2132\n",
      "31002.1654229\n",
      "198\n",
      "49247.9462096\n",
      "203\n",
      "-623.564636368\n",
      "2978\n",
      "33300.986438\n",
      "182\n",
      "-21912.1429494\n",
      "253\n",
      "29523.5088334\n",
      "2648\n",
      "4410.63675094\n",
      "8434\n",
      "-9784.97291055\n",
      "561\n",
      "-20290.7792461\n",
      "1091\n",
      "4421.48579322\n",
      "68\n",
      "-20632.3472655\n",
      "804\n",
      "20680.7699\n",
      "1319\n",
      "-43911.9821319\n",
      "343\n",
      "4557.90436535\n",
      "178\n",
      "-33448.3039984\n",
      "903\n",
      "74985.5346182\n",
      "14139\n",
      "39198.2314115\n",
      "1670\n",
      "49247.9462096\n",
      "109\n",
      "78217.6772743\n",
      "1451\n",
      "-21455.0981929\n",
      "88061\n",
      "119099.745514\n",
      "938\n",
      "-24942.3321389\n",
      "2614\n",
      "17001.585281\n",
      "73\n",
      "37815.0409571\n",
      "1274\n",
      "24796.5657782\n",
      "517\n",
      "79549.4154504\n",
      "148\n",
      "4859.57529068\n",
      "166\n",
      "10577.1252374\n",
      "190\n",
      "220297.881858\n",
      "5024\n",
      "-490.951031225\n",
      "255\n",
      "58558.8756881\n",
      "2053\n",
      "52486.6505513\n",
      "288\n",
      "188746.108187\n",
      "294\n",
      "-1545.83767625\n",
      "5212\n",
      "-30261.2802268\n",
      "3516\n",
      "142321.591379\n",
      "407\n",
      "-13542.6323368\n",
      "1007\n",
      "-15085.6768169\n",
      "407\n",
      "726435.681796\n",
      "6492\n",
      "-118471.598325\n",
      "263\n",
      "-9205.53192825\n",
      "184\n",
      "329948.574838\n",
      "16489\n",
      "94856.3528631\n",
      "222\n",
      "-23496.420099\n",
      "933\n",
      "48549.3377702\n",
      "7402\n",
      "49247.9462096\n",
      "828\n",
      "41679.4726774\n",
      "1495\n",
      "-13931.1113694\n",
      "260\n",
      "-12355.5725377\n",
      "316\n",
      "-11885.9692724\n",
      "669\n",
      "23857.0385024\n",
      "1678\n",
      "7414.54326412\n",
      "1189\n",
      "14428.3529651\n",
      "1084\n",
      "15429.2230802\n",
      "611\n",
      "30047.2587456\n",
      "300\n",
      "19721.1198454\n",
      "432\n",
      "-7265.40804221\n",
      "188\n",
      "-18437.8956044\n",
      "180\n",
      "46071.0339785\n",
      "398\n",
      "102833.964392\n",
      "3942\n",
      "49247.9462096\n",
      "478\n",
      "41600.6033936\n",
      "497\n",
      "15787.6391381\n",
      "1660\n",
      "34643.597379\n",
      "442\n",
      "20645.4821118\n",
      "6779\n",
      "-131794.801471\n",
      "357\n",
      "-13742.4418376\n",
      "231\n"
     ]
    }
   ],
   "source": [
    "writePredictions(predictions,testTimes)"
   ]
  },
  {
   "cell_type": "code",
   "execution_count": null,
   "metadata": {
    "collapsed": true
   },
   "outputs": [],
   "source": []
  }
 ],
 "metadata": {
  "kernelspec": {
   "display_name": "Python 2",
   "language": "python",
   "name": "python2"
  },
  "language_info": {
   "codemirror_mode": {
    "name": "ipython",
    "version": 2
   },
   "file_extension": ".py",
   "mimetype": "text/x-python",
   "name": "python",
   "nbconvert_exporter": "python",
   "pygments_lexer": "ipython2",
   "version": "2.7.13"
  }
 },
 "nbformat": 4,
 "nbformat_minor": 2
}
