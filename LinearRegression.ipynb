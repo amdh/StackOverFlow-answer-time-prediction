{
 "cells": [
  {
   "cell_type": "markdown",
   "metadata": {
    "collapsed": true
   },
   "source": [
    "## Linear Regression for predicting time untill a user gets an aswer on StackOverFlow."
   ]
  },
  {
   "cell_type": "code",
   "execution_count": 5,
   "metadata": {
    "collapsed": true
   },
   "outputs": [],
   "source": [
    "#import needed libraries\n",
    "import matplotlib.pyplot as plt\n",
    "import numpy as np\n",
    "import scipy as sp\n",
    "from sklearn import datasets, linear_model\n",
    "import pandas as pd"
   ]
  },
  {
   "cell_type": "markdown",
   "metadata": {},
   "source": [
    "## dataset attributes:\n",
    "\n",
    "qid: Unique question id\n",
    "\n",
    "i: User id of questioner\n",
    "\n",
    "qs: Score of the question\n",
    "\n",
    "qt: Time of the question (in epoch time)\n",
    "    \n",
    "tags: a comma-separated list of the tags associated with the question. Examples of tags are ``html'', ``R'', ``mysql'', ``python'', and so on; often between two and six tags are used on each question.\n",
    "\n",
    "qvc: Number of views of this question (at the time of the datadump)\n",
    "\n",
    "qac: Number of answers for this question (at the time of the datadump)\n",
    "\n",
    "aid: Unique answer id\n",
    "\n",
    "j: User id of answerer\n",
    "\n",
    "as: Score of the answer\n",
    "\n",
    "at: Time of the answer"
   ]
  },
  {
   "cell_type": "code",
   "execution_count": 26,
   "metadata": {
    "collapsed": false
   },
   "outputs": [
    {
     "data": {
      "text/html": [
       "<div>\n",
       "<table border=\"1\" class=\"dataframe\">\n",
       "  <thead>\n",
       "    <tr style=\"text-align: right;\">\n",
       "      <th></th>\n",
       "      <th>Unnamed: 0</th>\n",
       "      <th>qid</th>\n",
       "      <th>i</th>\n",
       "      <th>qs</th>\n",
       "      <th>qt</th>\n",
       "      <th>tags</th>\n",
       "      <th>qvc</th>\n",
       "      <th>qac</th>\n",
       "      <th>aid</th>\n",
       "      <th>j</th>\n",
       "      <th>as</th>\n",
       "      <th>at</th>\n",
       "    </tr>\n",
       "  </thead>\n",
       "  <tbody>\n",
       "    <tr>\n",
       "      <th>0</th>\n",
       "      <td>1</td>\n",
       "      <td>563355</td>\n",
       "      <td>62701.0</td>\n",
       "      <td>0</td>\n",
       "      <td>1235000081</td>\n",
       "      <td>php,error,gd,image-processing</td>\n",
       "      <td>220</td>\n",
       "      <td>2</td>\n",
       "      <td>563372</td>\n",
       "      <td>67183.0</td>\n",
       "      <td>2</td>\n",
       "      <td>1235000501</td>\n",
       "    </tr>\n",
       "    <tr>\n",
       "      <th>1</th>\n",
       "      <td>2</td>\n",
       "      <td>563355</td>\n",
       "      <td>62701.0</td>\n",
       "      <td>0</td>\n",
       "      <td>1235000081</td>\n",
       "      <td>php,error,gd,image-processing</td>\n",
       "      <td>220</td>\n",
       "      <td>2</td>\n",
       "      <td>563374</td>\n",
       "      <td>66554.0</td>\n",
       "      <td>0</td>\n",
       "      <td>1235000551</td>\n",
       "    </tr>\n",
       "    <tr>\n",
       "      <th>2</th>\n",
       "      <td>3</td>\n",
       "      <td>563356</td>\n",
       "      <td>15842.0</td>\n",
       "      <td>10</td>\n",
       "      <td>1235000140</td>\n",
       "      <td>lisp,scheme,subjective,clojure</td>\n",
       "      <td>1047</td>\n",
       "      <td>16</td>\n",
       "      <td>563358</td>\n",
       "      <td>15842.0</td>\n",
       "      <td>3</td>\n",
       "      <td>1235000177</td>\n",
       "    </tr>\n",
       "    <tr>\n",
       "      <th>3</th>\n",
       "      <td>4</td>\n",
       "      <td>563356</td>\n",
       "      <td>15842.0</td>\n",
       "      <td>10</td>\n",
       "      <td>1235000140</td>\n",
       "      <td>lisp,scheme,subjective,clojure</td>\n",
       "      <td>1047</td>\n",
       "      <td>16</td>\n",
       "      <td>563413</td>\n",
       "      <td>893.0</td>\n",
       "      <td>18</td>\n",
       "      <td>1235001545</td>\n",
       "    </tr>\n",
       "    <tr>\n",
       "      <th>4</th>\n",
       "      <td>5</td>\n",
       "      <td>563356</td>\n",
       "      <td>15842.0</td>\n",
       "      <td>10</td>\n",
       "      <td>1235000140</td>\n",
       "      <td>lisp,scheme,subjective,clojure</td>\n",
       "      <td>1047</td>\n",
       "      <td>16</td>\n",
       "      <td>563454</td>\n",
       "      <td>11649.0</td>\n",
       "      <td>4</td>\n",
       "      <td>1235002457</td>\n",
       "    </tr>\n",
       "    <tr>\n",
       "      <th>5</th>\n",
       "      <td>6</td>\n",
       "      <td>563356</td>\n",
       "      <td>15842.0</td>\n",
       "      <td>10</td>\n",
       "      <td>1235000140</td>\n",
       "      <td>lisp,scheme,subjective,clojure</td>\n",
       "      <td>1047</td>\n",
       "      <td>16</td>\n",
       "      <td>563472</td>\n",
       "      <td>50742.0</td>\n",
       "      <td>6</td>\n",
       "      <td>1235002809</td>\n",
       "    </tr>\n",
       "    <tr>\n",
       "      <th>6</th>\n",
       "      <td>7</td>\n",
       "      <td>563356</td>\n",
       "      <td>15842.0</td>\n",
       "      <td>10</td>\n",
       "      <td>1235000140</td>\n",
       "      <td>lisp,scheme,subjective,clojure</td>\n",
       "      <td>1047</td>\n",
       "      <td>16</td>\n",
       "      <td>563484</td>\n",
       "      <td>8899.0</td>\n",
       "      <td>1</td>\n",
       "      <td>1235003266</td>\n",
       "    </tr>\n",
       "    <tr>\n",
       "      <th>7</th>\n",
       "      <td>8</td>\n",
       "      <td>563356</td>\n",
       "      <td>15842.0</td>\n",
       "      <td>10</td>\n",
       "      <td>1235000140</td>\n",
       "      <td>lisp,scheme,subjective,clojure</td>\n",
       "      <td>1047</td>\n",
       "      <td>16</td>\n",
       "      <td>563635</td>\n",
       "      <td>60190.0</td>\n",
       "      <td>12</td>\n",
       "      <td>1235007817</td>\n",
       "    </tr>\n",
       "    <tr>\n",
       "      <th>8</th>\n",
       "      <td>9</td>\n",
       "      <td>563356</td>\n",
       "      <td>15842.0</td>\n",
       "      <td>10</td>\n",
       "      <td>1235000140</td>\n",
       "      <td>lisp,scheme,subjective,clojure</td>\n",
       "      <td>1047</td>\n",
       "      <td>16</td>\n",
       "      <td>563642</td>\n",
       "      <td>65235.0</td>\n",
       "      <td>1</td>\n",
       "      <td>1235007913</td>\n",
       "    </tr>\n",
       "    <tr>\n",
       "      <th>9</th>\n",
       "      <td>10</td>\n",
       "      <td>563356</td>\n",
       "      <td>15842.0</td>\n",
       "      <td>10</td>\n",
       "      <td>1235000140</td>\n",
       "      <td>lisp,scheme,subjective,clojure</td>\n",
       "      <td>1047</td>\n",
       "      <td>16</td>\n",
       "      <td>564028</td>\n",
       "      <td>32797.0</td>\n",
       "      <td>8</td>\n",
       "      <td>1235020626</td>\n",
       "    </tr>\n",
       "  </tbody>\n",
       "</table>\n",
       "</div>"
      ],
      "text/plain": [
       "   Unnamed: 0     qid        i  qs          qt  \\\n",
       "0           1  563355  62701.0   0  1235000081   \n",
       "1           2  563355  62701.0   0  1235000081   \n",
       "2           3  563356  15842.0  10  1235000140   \n",
       "3           4  563356  15842.0  10  1235000140   \n",
       "4           5  563356  15842.0  10  1235000140   \n",
       "5           6  563356  15842.0  10  1235000140   \n",
       "6           7  563356  15842.0  10  1235000140   \n",
       "7           8  563356  15842.0  10  1235000140   \n",
       "8           9  563356  15842.0  10  1235000140   \n",
       "9          10  563356  15842.0  10  1235000140   \n",
       "\n",
       "                             tags   qvc  qac     aid        j  as          at  \n",
       "0   php,error,gd,image-processing   220    2  563372  67183.0   2  1235000501  \n",
       "1   php,error,gd,image-processing   220    2  563374  66554.0   0  1235000551  \n",
       "2  lisp,scheme,subjective,clojure  1047   16  563358  15842.0   3  1235000177  \n",
       "3  lisp,scheme,subjective,clojure  1047   16  563413    893.0  18  1235001545  \n",
       "4  lisp,scheme,subjective,clojure  1047   16  563454  11649.0   4  1235002457  \n",
       "5  lisp,scheme,subjective,clojure  1047   16  563472  50742.0   6  1235002809  \n",
       "6  lisp,scheme,subjective,clojure  1047   16  563484   8899.0   1  1235003266  \n",
       "7  lisp,scheme,subjective,clojure  1047   16  563635  60190.0  12  1235007817  \n",
       "8  lisp,scheme,subjective,clojure  1047   16  563642  65235.0   1  1235007913  \n",
       "9  lisp,scheme,subjective,clojure  1047   16  564028  32797.0   8  1235020626  "
      ]
     },
     "execution_count": 26,
     "metadata": {},
     "output_type": "execute_result"
    }
   ],
   "source": [
    "#Load dataset\n",
    "answers_X = pd.read_csv('answers.csv')\n",
    "answers_X[:5]"
   ]
  },
  {
   "cell_type": "code",
   "execution_count": 31,
   "metadata": {
    "collapsed": false
   },
   "outputs": [
    {
     "name": "stdout",
     "output_type": "stream",
     "text": [
      "total length ->\n",
      "263540\n",
      "-----------\n",
      "last element->\n",
      "        Unnamed: 0     qid        i  qs          qt  \\\n",
      "0                1  563355  62701.0   0  1235000081   \n",
      "263539      263540  961459  33584.0   0  1244361919   \n",
      "\n",
      "                                 tags  qvc  qac     aid        j  as  \\\n",
      "0       php,error,gd,image-processing  220    2  563372  67183.0   2   \n",
      "263539                            css    5    1  961462  23590.0   0   \n",
      "\n",
      "                at  \n",
      "0       1235000501  \n",
      "263539  1244362060  \n"
     ]
    }
   ],
   "source": [
    "print(\"total length ->\")\n",
    "print(len(answers_X))\n",
    "print(\"-----------\")\n",
    "print(\"last element->\")\n",
    "print(answers_X[::len(answers_X)- 1])\n"
   ]
  },
  {
   "cell_type": "code",
   "execution_count": 16,
   "metadata": {
    "collapsed": false
   },
   "outputs": [
    {
     "name": "stdout",
     "output_type": "stream",
     "text": [
      "test data first 3 lines:\n",
      "        Unnamed: 0     qid         i  qs          qt                 tags  \\\n",
      "263520      263521  961389   86751.0   0  1244359049     sql,transactions   \n",
      "263521      263522  961389   86751.0   0  1244359049     sql,transactions   \n",
      "263522      263523  961392  110233.0   0  1244359159  network-programming   \n",
      "\n",
      "        qvc  qac     aid         j  as          at  \n",
      "263520   23    2  961426  109122.0   1  1244360455  \n",
      "263521   23    2  961435   27535.0   1  1244360774  \n",
      "263522   37    4  961397   10307.0   0  1244359518  \n"
     ]
    }
   ],
   "source": [
    "#Split data into training and test data\n",
    "answers_X_train = answers_X[:-20]\n",
    "answers_X_test = answers_X[-20:]\n",
    "print('test data first 3 lines:')\n",
    "print(answers_X_test[:3])"
   ]
  },
  {
   "cell_type": "code",
   "execution_count": 32,
   "metadata": {
    "collapsed": true
   },
   "outputs": [],
   "source": [
    "# Split the targets into training/testing sets\n",
    "#answers_y_train = answers.target[:-20]\n",
    "#answers_y_test = answers.target[-20:]"
   ]
  },
  {
   "cell_type": "code",
   "execution_count": null,
   "metadata": {
    "collapsed": true
   },
   "outputs": [],
   "source": []
  }
 ],
 "metadata": {
  "kernelspec": {
   "display_name": "Python 3",
   "language": "python",
   "name": "python3"
  },
  "language_info": {
   "codemirror_mode": {
    "name": "ipython",
    "version": 3
   },
   "file_extension": ".py",
   "mimetype": "text/x-python",
   "name": "python",
   "nbconvert_exporter": "python",
   "pygments_lexer": "ipython3",
   "version": "3.6.0"
  }
 },
 "nbformat": 4,
 "nbformat_minor": 2
}
