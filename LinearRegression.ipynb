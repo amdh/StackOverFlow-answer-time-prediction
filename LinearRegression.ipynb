{
 "cells": [
  {
   "cell_type": "markdown",
   "metadata": {
    "collapsed": true,
    "deletable": true,
    "editable": true
   },
   "source": [
    "#  Linear Regression for predicting time untill a user gets an aswer on StackOverFlow."
   ]
  },
  {
   "cell_type": "code",
   "execution_count": 1,
   "metadata": {
    "collapsed": true,
    "deletable": true,
    "editable": true
   },
   "outputs": [],
   "source": [
    "#import needed libraries\n",
    "import matplotlib.pyplot as plt\n",
    "import numpy as np\n",
    "import scipy as sp\n",
    "from sklearn import datasets, linear_model\n",
    "import pandas as pd"
   ]
  },
  {
   "cell_type": "markdown",
   "metadata": {
    "deletable": true,
    "editable": true
   },
   "source": [
    "## dataset attributes:\n",
    "\n",
    "qid: Unique question id\n",
    "\n",
    "i: User id of questioner\n",
    "\n",
    "qs: Score of the question\n",
    "\n",
    "qt: Time of the question (in epoch time)\n",
    "    \n",
    "tags: a comma-separated list of the tags associated with the question. Examples of tags are ``html'', ``R'', ``mysql'', ``python'', and so on; often between two and six tags are used on each question.\n",
    "\n",
    "qvc: Number of views of this question (at the time of the datadump)\n",
    "\n",
    "qac: Number of answers for this question (at the time of the datadump)\n",
    "\n",
    "aid: Unique answer id\n",
    "\n",
    "j: User id of answerer\n",
    "\n",
    "as: Score of the answer\n",
    "\n",
    "at: Time of the answer"
   ]
  },
  {
   "cell_type": "code",
   "execution_count": 2,
   "metadata": {
    "collapsed": false,
    "deletable": true,
    "editable": true
   },
   "outputs": [
    {
     "data": {
      "text/html": [
       "<div>\n",
       "<table border=\"1\" class=\"dataframe\">\n",
       "  <thead>\n",
       "    <tr style=\"text-align: right;\">\n",
       "      <th></th>\n",
       "      <th>Unnamed: 0</th>\n",
       "      <th>qid</th>\n",
       "      <th>i</th>\n",
       "      <th>qs</th>\n",
       "      <th>qt</th>\n",
       "      <th>tags</th>\n",
       "      <th>qvc</th>\n",
       "      <th>qac</th>\n",
       "      <th>aid</th>\n",
       "      <th>j</th>\n",
       "      <th>as</th>\n",
       "      <th>at</th>\n",
       "    </tr>\n",
       "  </thead>\n",
       "  <tbody>\n",
       "    <tr>\n",
       "      <th>0</th>\n",
       "      <td>1</td>\n",
       "      <td>563355</td>\n",
       "      <td>62701.0</td>\n",
       "      <td>0</td>\n",
       "      <td>1235000081</td>\n",
       "      <td>php,error,gd,image-processing</td>\n",
       "      <td>220</td>\n",
       "      <td>2</td>\n",
       "      <td>563372</td>\n",
       "      <td>67183.0</td>\n",
       "      <td>2</td>\n",
       "      <td>1235000501</td>\n",
       "    </tr>\n",
       "    <tr>\n",
       "      <th>1</th>\n",
       "      <td>2</td>\n",
       "      <td>563355</td>\n",
       "      <td>62701.0</td>\n",
       "      <td>0</td>\n",
       "      <td>1235000081</td>\n",
       "      <td>php,error,gd,image-processing</td>\n",
       "      <td>220</td>\n",
       "      <td>2</td>\n",
       "      <td>563374</td>\n",
       "      <td>66554.0</td>\n",
       "      <td>0</td>\n",
       "      <td>1235000551</td>\n",
       "    </tr>\n",
       "    <tr>\n",
       "      <th>2</th>\n",
       "      <td>3</td>\n",
       "      <td>563356</td>\n",
       "      <td>15842.0</td>\n",
       "      <td>10</td>\n",
       "      <td>1235000140</td>\n",
       "      <td>lisp,scheme,subjective,clojure</td>\n",
       "      <td>1047</td>\n",
       "      <td>16</td>\n",
       "      <td>563358</td>\n",
       "      <td>15842.0</td>\n",
       "      <td>3</td>\n",
       "      <td>1235000177</td>\n",
       "    </tr>\n",
       "    <tr>\n",
       "      <th>3</th>\n",
       "      <td>4</td>\n",
       "      <td>563356</td>\n",
       "      <td>15842.0</td>\n",
       "      <td>10</td>\n",
       "      <td>1235000140</td>\n",
       "      <td>lisp,scheme,subjective,clojure</td>\n",
       "      <td>1047</td>\n",
       "      <td>16</td>\n",
       "      <td>563413</td>\n",
       "      <td>893.0</td>\n",
       "      <td>18</td>\n",
       "      <td>1235001545</td>\n",
       "    </tr>\n",
       "    <tr>\n",
       "      <th>4</th>\n",
       "      <td>5</td>\n",
       "      <td>563356</td>\n",
       "      <td>15842.0</td>\n",
       "      <td>10</td>\n",
       "      <td>1235000140</td>\n",
       "      <td>lisp,scheme,subjective,clojure</td>\n",
       "      <td>1047</td>\n",
       "      <td>16</td>\n",
       "      <td>563454</td>\n",
       "      <td>11649.0</td>\n",
       "      <td>4</td>\n",
       "      <td>1235002457</td>\n",
       "    </tr>\n",
       "  </tbody>\n",
       "</table>\n",
       "</div>"
      ],
      "text/plain": [
       "   Unnamed: 0     qid        i  qs          qt  \\\n",
       "0           1  563355  62701.0   0  1235000081   \n",
       "1           2  563355  62701.0   0  1235000081   \n",
       "2           3  563356  15842.0  10  1235000140   \n",
       "3           4  563356  15842.0  10  1235000140   \n",
       "4           5  563356  15842.0  10  1235000140   \n",
       "\n",
       "                             tags   qvc  qac     aid        j  as          at  \n",
       "0   php,error,gd,image-processing   220    2  563372  67183.0   2  1235000501  \n",
       "1   php,error,gd,image-processing   220    2  563374  66554.0   0  1235000551  \n",
       "2  lisp,scheme,subjective,clojure  1047   16  563358  15842.0   3  1235000177  \n",
       "3  lisp,scheme,subjective,clojure  1047   16  563413    893.0  18  1235001545  \n",
       "4  lisp,scheme,subjective,clojure  1047   16  563454  11649.0   4  1235002457  "
      ]
     },
     "execution_count": 2,
     "metadata": {},
     "output_type": "execute_result"
    }
   ],
   "source": [
    "#Load dataset\n",
    "answers_X = pd.read_csv('answers.csv')\n",
    "answers_X[:5]"
   ]
  },
  {
   "cell_type": "code",
   "execution_count": 7,
   "metadata": {
    "collapsed": false,
    "deletable": true,
    "editable": true
   },
   "outputs": [
    {
     "name": "stdout",
     "output_type": "stream",
     "text": [
      "total length ->\n",
      "263540\n",
      "-----------\n",
      "last element->\n",
      "        Unnamed: 0     qid        i  qs          qt  \\\n",
      "0                1  563355  62701.0   0  1235000081   \n",
      "263539      263540  961459  33584.0   0  1244361919   \n",
      "\n",
      "                                 tags  qvc  qac     aid        j  as  \\\n",
      "0       php,error,gd,image-processing  220    2  563372  67183.0   2   \n",
      "263539                            css    5    1  961462  23590.0   0   \n",
      "\n",
      "                at  \n",
      "0       1235000501  \n",
      "263539  1244362060  \n",
      "210832\n"
     ]
    }
   ],
   "source": [
    "print(\"total length ->\")\n",
    "print(len(answers_X))\n",
    "print(\"-----------\")\n",
    "print(\"last element->\")\n",
    "print(answers_X[::len(answers_X)- 1])\n"
   ]
  },
  {
   "cell_type": "code",
   "execution_count": 10,
   "metadata": {
    "collapsed": false,
    "deletable": true,
    "editable": true
   },
   "outputs": [
    {
     "name": "stdout",
     "output_type": "stream",
     "text": [
      "210832\n",
      "210832\n",
      "52708\n"
     ]
    }
   ],
   "source": [
    "#Split data into training and test data\n",
    "print( 26354*8) # 80% data 20% target => approx 200000\n",
    "\n",
    "data_X =  answers_X[:-200000]\n",
    "data_Y = answers_X[-200000:]\n",
    "print(len(data_X))\n",
    "print(len(data_Y))\n"
   ]
  },
  {
   "cell_type": "code",
   "execution_count": 16,
   "metadata": {
    "collapsed": false
   },
   "outputs": [
    {
     "name": "stdout",
     "output_type": "stream",
     "text": [
      "length of X train : % 205832\n",
      "length of X test : % 5000\n",
      "test data first 3 lines:\n",
      "        Unnamed: 0     qid         i  qs          qt  \\\n",
      "205832      205833  869975  104144.0   0  1242409167   \n",
      "205833      205834  869975  104144.0   0  1242409167   \n",
      "205834      205835  869976   29182.0   3  1242409171   \n",
      "\n",
      "                                                   tags  qvc  qac     aid  \\\n",
      "205832                           python,indentation,gui  201   12  871482   \n",
      "205833                           python,indentation,gui  201   12  871562   \n",
      "205834  theory,beginner,programming-languages,wikipedia  151    6  869996   \n",
      "\n",
      "              j  as          at  \n",
      "205832  10661.0   0  1242438772  \n",
      "205833  11596.0   0  1242442449  \n",
      "205834   4249.0   3  1242409393  \n"
     ]
    }
   ],
   "source": [
    "answers_X_train = data_X[:-5000]\n",
    "answers_X_test = data_X[-5000:]\n",
    "print(\"length of X train : %\", (len(answers_X_train)))\n",
    "print(\"length of X test : %\", (len(answers_X_test)))\n",
    "print('test data first 3 lines:')\n",
    "print(answers_X_test[:3])"
   ]
  },
  {
   "cell_type": "code",
   "execution_count": 18,
   "metadata": {
    "collapsed": false,
    "deletable": true,
    "editable": true
   },
   "outputs": [
    {
     "name": "stdout",
     "output_type": "stream",
     "text": [
      "length of Y train : % 47708\n",
      "length of Y test : % 5000\n"
     ]
    }
   ],
   "source": [
    "# Split the targets into training/testing sets\n",
    "answers_Y_train = data_Y[:-5000]\n",
    "answers_Y_test = data_Y[-5000:]\n",
    "print(\"length of Y train : %\", (len(answers_Y_train)))\n",
    "print(\"length of Y test : %\", (len(answers_Y_test)))"
   ]
  },
  {
   "cell_type": "code",
   "execution_count": 25,
   "metadata": {
    "collapsed": true
   },
   "outputs": [],
   "source": [
    "#feature selection"
   ]
  },
  {
   "cell_type": "code",
   "execution_count": 26,
   "metadata": {
    "collapsed": true
   },
   "outputs": [],
   "source": [
    "#matrix creation"
   ]
  },
  {
   "cell_type": "markdown",
   "metadata": {},
   "source": [
    "# Simple Linear Regression: \n",
    "y=β0+β1x\n"
   ]
  },
  {
   "cell_type": "code",
   "execution_count": 27,
   "metadata": {
    "collapsed": false,
    "deletable": true,
    "editable": true
   },
   "outputs": [],
   "source": [
    "# Create linear regression object\n",
    "regr = linear_model.LinearRegression()"
   ]
  },
  {
   "cell_type": "code",
   "execution_count": 31,
   "metadata": {
    "collapsed": false
   },
   "outputs": [],
   "source": [
    "# Train the model using the training sets\n",
    "#regr.fit(answers_X_train, answers_Y_train)# The coefficients\n",
    "#print('Coefficients: \\n', regr.coef_)"
   ]
  },
  {
   "cell_type": "code",
   "execution_count": null,
   "metadata": {
    "collapsed": true
   },
   "outputs": [],
   "source": [
    "# The mean squared error\n",
    "print(\"Mean squared error: %.2f\"\n",
    "      % np.mean((regr.predict(answers_X_test) - answers_Y# Explained variance score: 1 is perfect prediction\n"
   ]
  },
  {
   "cell_type": "code",
   "execution_count": null,
   "metadata": {
    "collapsed": true
   },
   "outputs": [],
   "source": [
    "print('Variance score: %.2f' % regr.score(answers_X_test, answers_Y# Plot outputs\n"
   ]
  },
  {
   "cell_type": "code",
   "execution_count": null,
   "metadata": {
    "collapsed": true
   },
   "outputs": [],
   "source": [
    "plt.scatter(diabetes_X_test, diabetes_y_test,  color='black')\n",
    "plt.plot(diabetes_X_test, regr.predict(diabetes_X_test), color='blue',\n",
    "         linewidth=3)_test))_test) ** 2))"
   ]
  },
  {
   "cell_type": "code",
   "execution_count": null,
   "metadata": {
    "collapsed": true
   },
   "outputs": [],
   "source": [
    "plt.xticks(())\n",
    "plt.yticks(())"
   ]
  },
  {
   "cell_type": "code",
   "execution_count": null,
   "metadata": {
    "collapsed": true
   },
   "outputs": [],
   "source": [
    "plt.show()"
   ]
  },
  {
   "cell_type": "markdown",
   "metadata": {},
   "source": [
    "# Multiple Linear Regression :\n",
    "\n",
    "Simple linear regression can easily be extended to include multiple features. This is called multiple linear regression:\n",
    "\n",
    "y=β0+β1x1+...+βnxny=β0+β1x1+...+βnxn\n",
    "\n",
    "Each xx represents a different feature, and each feature has its own coefficient"
   ]
  },
  {
   "cell_type": "code",
   "execution_count": 28,
   "metadata": {
    "collapsed": true
   },
   "outputs": [],
   "source": [
    "# this is the standard import if you're using \"formula notation\" (similar to R)\n",
    "import statsmodels.formula.api as smf"
   ]
  },
  {
   "cell_type": "code",
   "execution_count": 32,
   "metadata": {
    "collapsed": false
   },
   "outputs": [],
   "source": [
    "# create a fitted model with all three features\n",
    "#lm = smf.ols(formula='at ~ qt + tags  + qvc + qac', data=answers_X).fit()\n",
    "\n",
    "# print the coefficients\n",
    "#lm.params"
   ]
  },
  {
   "cell_type": "code",
   "execution_count": null,
   "metadata": {
    "collapsed": true
   },
   "outputs": [],
   "source": [
    "# print a summary of the fitted model\n",
    "lm.summary()"
   ]
  }
 ],
 "metadata": {
  "kernelspec": {
   "display_name": "Python 3",
   "language": "python",
   "name": "python3"
  },
  "language_info": {
   "codemirror_mode": {
    "name": "ipython",
    "version": 3
   },
   "file_extension": ".py",
   "mimetype": "text/x-python",
   "name": "python",
   "nbconvert_exporter": "python",
   "pygments_lexer": "ipython3",
   "version": "3.6.0"
  }
 },
 "nbformat": 4,
 "nbformat_minor": 2
}
